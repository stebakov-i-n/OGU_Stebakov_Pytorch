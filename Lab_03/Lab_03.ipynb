{
  "cells": [
    {
      "cell_type": "code",
      "execution_count": 106,
      "metadata": {
        "id": "ae3NcOHtq-bb"
      },
      "outputs": [],
      "source": [
        "from IPython.display import clear_output\n",
        "\n",
        "!git clone https://github.com/chester-i-n/11MH-M.git\n",
        "!unzip 11MH-M/data.zip\n",
        "\n",
        "clear_output()"
      ]
    },
    {
      "cell_type": "code",
      "execution_count": 111,
      "metadata": {
        "id": "PZkN90vzq-be"
      },
      "outputs": [],
      "source": [
        "import numpy as np\n",
        "import os\n",
        "import torch\n",
        "from torch.utils.data import Dataset, DataLoader\n"
      ]
    },
    {
      "cell_type": "code",
      "source": [
        "SENSORS = {'temp': 0, 'pos_x': 1, 'pos_y': 2, 'accel_x': 3, 'accel_y': 4, 'accel_z': 5}\n",
        "USED_SENSORS = ['temp', 'pos_x']\n",
        "BATCH_SIZE = 64"
      ],
      "metadata": {
        "id": "2dN8h44MOCSv"
      },
      "execution_count": 112,
      "outputs": []
    },
    {
      "cell_type": "markdown",
      "source": [
        "1. Сделать список с индексами используемых датчиков на основе USED_SENSORS"
      ],
      "metadata": {
        "id": "2ZIP4hjLOPMU"
      }
    },
    {
      "cell_type": "code",
      "source": [
        "USED_SENSORS_INDEX = []"
      ],
      "metadata": {
        "id": "dZP9V6PJObP-"
      },
      "execution_count": 109,
      "outputs": []
    },
    {
      "cell_type": "markdown",
      "source": [
        "2. Ознакомиться с агрегацией всех данных в списке data_all"
      ],
      "metadata": {
        "id": "bhYJt5mkPDRz"
      }
    },
    {
      "cell_type": "code",
      "source": [
        "classes = os.listdir('/content/train')\n",
        "\n",
        "data_all = []\n",
        "\n",
        "for class_ in classes:\n",
        "    target = int(class_)\n",
        "    files = os.listdir(os.path.join('/content/train', class_))\n",
        "    for file_ in files:\n",
        "        data_tmp = np.load(os.path.join('/content/train', class_, file_))\n",
        "        data_all.append((data_tmp, target))"
      ],
      "metadata": {
        "id": "Z4Oz3qs2BbP5"
      },
      "execution_count": 113,
      "outputs": []
    },
    {
      "cell_type": "markdown",
      "source": [
        "3. Ознакомиться с формированием массивов inputs и targets, которые содержат фрагменты измерений размером n  "
      ],
      "metadata": {
        "id": "0aZZz16oOms1"
      }
    },
    {
      "cell_type": "code",
      "source": [
        "n = 50\n",
        "stride = 10\n",
        "used_sensors = [2, 4, 5]\n"
      ],
      "metadata": {
        "id": "Ts6sszDqDSXb"
      },
      "execution_count": 115,
      "outputs": []
    },
    {
      "cell_type": "code",
      "source": [
        "inputs = torch.zeros(0, n, len(used_sensors))\n",
        "targets = torch.zeros(0).long()"
      ],
      "metadata": {
        "id": "7jB1uydWGcsE"
      },
      "execution_count": 116,
      "outputs": []
    },
    {
      "cell_type": "code",
      "source": [
        "for data_tmp in data_all:\n",
        "    n_tmp = int((data_tmp[0].shape[0] - n) / (stride) + 1)\n",
        "    target = data_tmp[1]\n",
        "    targets = torch.cat((targets, torch.ones(n_tmp).long() * target))\n",
        "    for i in range(n_tmp):\n",
        "        inputs = torch.cat((inputs,\n",
        "                            torch.tensor(data_tmp[0][i * stride:i * stride + n, used_sensors]).unsqueeze(0)))"
      ],
      "metadata": {
        "id": "Bd59lI1VHxrF"
      },
      "execution_count": 117,
      "outputs": []
    },
    {
      "cell_type": "markdown",
      "source": [
        "4. Добавить в датасет загрузку данных и формирование массивов inputs и targets. Сделать обработку параметров датасета. Используйте USED_SENSORS_INDEX для выбора указанных датчиков"
      ],
      "metadata": {
        "id": "eG3jYNRbPSZx"
      }
    },
    {
      "cell_type": "code",
      "source": [
        "class DefectsDataset(Dataset):\n",
        "    def __init__(self, path, n, stride):\n",
        "        \"\"\" path - путь к папке с данными\n",
        "            n - размер фрагментов измерений\n",
        "            stride - шаг фрагментов\n",
        "        \"\"\"\n",
        "\n",
        "        ?\n",
        "\n",
        "        self.inputs =\n",
        "        self.targets =\n",
        "\n",
        "        ?\n",
        "\n",
        "    def __getitem__(self, index):\n",
        "        return self.inputs[index], self.targets[index]\n",
        "\n",
        "    def __len__(self):\n",
        "        return len(self.targets)\n",
        ""
      ],
      "metadata": {
        "id": "BTdE0JfVJafE"
      },
      "execution_count": 91,
      "outputs": []
    },
    {
      "cell_type": "markdown",
      "source": [
        "5. Сделать экземпляры датасетов для всех выборок данных. Вывести кол-во элементов в каждом датасете"
      ],
      "metadata": {
        "id": "Ez2WTOabP1wn"
      }
    },
    {
      "cell_type": "code",
      "source": [
        "train_dataset = DefectsDataset(?)\n",
        "?\n"
      ],
      "metadata": {
        "id": "2vSTFToAKzED"
      },
      "execution_count": null,
      "outputs": []
    },
    {
      "cell_type": "markdown",
      "source": [
        "6. Сделать экземпляры DataLoader для всех выборок данных. Для обучающих данных shuffle=True, drop_last=True, для остальных - False. Вывести кол-во элементов в каждом DataLoader"
      ],
      "metadata": {
        "id": "RFv4dcKoQq3a"
      }
    },
    {
      "cell_type": "code",
      "source": [
        "train_loader = DataLoader(train_dataset, batch_size=BATCH_SIZE, shuffle=True, drop_last=True)\n",
        "?\n"
      ],
      "metadata": {
        "id": "8inYfEh1KmUX"
      },
      "execution_count": 94,
      "outputs": []
    }
  ],
  "metadata": {
    "kernelspec": {
      "display_name": "Ivan",
      "language": "python",
      "name": "python3"
    },
    "language_info": {
      "codemirror_mode": {
        "name": "ipython",
        "version": 3
      },
      "file_extension": ".py",
      "mimetype": "text/x-python",
      "name": "python",
      "nbconvert_exporter": "python",
      "pygments_lexer": "ipython3",
      "version": "3.9.12"
    },
    "colab": {
      "provenance": []
    }
  },
  "nbformat": 4,
  "nbformat_minor": 0
}