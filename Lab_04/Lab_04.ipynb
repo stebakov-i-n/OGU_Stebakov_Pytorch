{
  "nbformat": 4,
  "nbformat_minor": 0,
  "metadata": {
    "colab": {
      "provenance": []
    },
    "kernelspec": {
      "name": "python3",
      "display_name": "Python 3"
    },
    "language_info": {
      "name": "python"
    }
  },
  "cells": [
    {
      "cell_type": "code",
      "execution_count": 1,
      "metadata": {
        "id": "ldsEgGckEPOW"
      },
      "outputs": [],
      "source": [
        "import torch"
      ]
    },
    {
      "cell_type": "code",
      "source": [
        "out_ex = torch.randn(10, 4) # Иммитация выхода нейронной сети\n",
        "labels_ex = torch.randint(0, 4, (10, 1)).reshape(-1) # Иммитация разметки"
      ],
      "metadata": {
        "id": "yqi2ZC30EPrz"
      },
      "execution_count": 2,
      "outputs": []
    },
    {
      "cell_type": "code",
      "source": [
        "out_ex, labels_ex"
      ],
      "metadata": {
        "colab": {
          "base_uri": "https://localhost:8080/"
        },
        "id": "PKpf1Ar8EUIx",
        "outputId": "e47d21f3-bbdb-468f-a530-7ba775fe4c17"
      },
      "execution_count": 3,
      "outputs": [
        {
          "output_type": "execute_result",
          "data": {
            "text/plain": [
              "(tensor([[ 0.4853, -0.3106, -0.0285,  0.7822],\n",
              "         [-1.7064, -1.5090, -1.7416,  0.0496],\n",
              "         [ 0.1148, -0.8102,  1.5449, -0.1138],\n",
              "         [-1.1091,  0.6788, -0.8065,  0.9417],\n",
              "         [ 2.3492, -0.9597,  1.8777, -0.4634],\n",
              "         [-1.1763, -2.3533,  0.4588, -0.6535],\n",
              "         [ 1.4011, -0.3476,  1.5169, -0.4781],\n",
              "         [ 0.8893,  0.8258,  0.0463,  0.1162],\n",
              "         [ 0.8771, -1.1390, -0.7611,  1.0702],\n",
              "         [-1.4172,  1.1363, -0.2728, -2.3883]]),\n",
              " tensor([0, 0, 1, 1, 0, 2, 1, 2, 0, 2]))"
            ]
          },
          "metadata": {},
          "execution_count": 3
        }
      ]
    },
    {
      "cell_type": "code",
      "source": [
        "# Расчет экспоненты\n",
        "torch.exp(out_ex)"
      ],
      "metadata": {
        "colab": {
          "base_uri": "https://localhost:8080/"
        },
        "id": "kFjU5nnyEU36",
        "outputId": "aa7c29f4-91cb-4a48-e2d3-3c3d262d8cb0"
      },
      "execution_count": 4,
      "outputs": [
        {
          "output_type": "execute_result",
          "data": {
            "text/plain": [
              "tensor([[ 1.6247,  0.7330,  0.9719,  2.1863],\n",
              "        [ 0.1815,  0.2211,  0.1752,  1.0508],\n",
              "        [ 1.1217,  0.4448,  4.6877,  0.8925],\n",
              "        [ 0.3298,  1.9716,  0.4464,  2.5644],\n",
              "        [10.4775,  0.3830,  6.5388,  0.6291],\n",
              "        [ 0.3084,  0.0951,  1.5821,  0.5202],\n",
              "        [ 4.0597,  0.7064,  4.5583,  0.6199],\n",
              "        [ 2.4333,  2.2837,  1.0474,  1.1232],\n",
              "        [ 2.4040,  0.3201,  0.4671,  2.9158],\n",
              "        [ 0.2424,  3.1154,  0.7613,  0.0918]])"
            ]
          },
          "metadata": {},
          "execution_count": 4
        }
      ]
    },
    {
      "cell_type": "code",
      "source": [
        "# Расчет суммы по строкам (примерам)\n",
        "out_ex.sum(axis=1)"
      ],
      "metadata": {
        "colab": {
          "base_uri": "https://localhost:8080/"
        },
        "id": "Tyk_NFyKEWYC",
        "outputId": "c26ce0bb-2e41-4a4f-d277-4a1caac2a2a7"
      },
      "execution_count": 5,
      "outputs": [
        {
          "output_type": "execute_result",
          "data": {
            "text/plain": [
              "tensor([ 0.9284, -4.9074,  0.7359, -0.2951,  2.8039, -3.7243,  2.0923,  1.8776,\n",
              "         0.0472, -2.9419])"
            ]
          },
          "metadata": {},
          "execution_count": 5
        }
      ]
    },
    {
      "cell_type": "code",
      "source": [
        "# Приведение к нужному размеру для broadcasting\n",
        "out_ex / torch.randn(10).reshape(-1, 1)"
      ],
      "metadata": {
        "colab": {
          "base_uri": "https://localhost:8080/"
        },
        "id": "aavXK1pIEXjP",
        "outputId": "c72cc6fe-b71a-4a79-826c-daff45652a62"
      },
      "execution_count": 6,
      "outputs": [
        {
          "output_type": "execute_result",
          "data": {
            "text/plain": [
              "tensor([[-3.6712,  2.3497,  0.2152, -5.9168],\n",
              "        [ 1.1230,  0.9931,  1.1462, -0.0326],\n",
              "        [ 0.0704, -0.4963,  0.9464, -0.0697],\n",
              "        [-0.4843,  0.2964, -0.3522,  0.4112],\n",
              "        [ 8.9578, -3.6594,  7.1600, -1.7670],\n",
              "        [ 0.9847,  1.9701, -0.3841,  0.5471],\n",
              "        [-0.7057,  0.1751, -0.7641,  0.2408],\n",
              "        [ 0.7755,  0.7201,  0.0404,  0.1013],\n",
              "        [-1.0069,  1.3075,  0.8737, -1.2285],\n",
              "        [ 1.7151, -1.3753,  0.3301,  2.8904]])"
            ]
          },
          "metadata": {},
          "execution_count": 6
        }
      ]
    },
    {
      "cell_type": "markdown",
      "source": [
        "1. Написать функцию SoftMax\n",
        "\n",
        "![image.png](data:image/png;base64,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)"
      ],
      "metadata": {
        "id": "WC7BodmlEasP"
      }
    },
    {
      "cell_type": "code",
      "source": [
        "def SoftMax(outputs):\n",
        "    ?\n",
        "    return"
      ],
      "metadata": {
        "id": "SNvxs-D_EY_h"
      },
      "execution_count": null,
      "outputs": []
    },
    {
      "cell_type": "code",
      "source": [
        "# Расчет натурального логарифма\n",
        "torch.log(out_ex)"
      ],
      "metadata": {
        "colab": {
          "base_uri": "https://localhost:8080/"
        },
        "id": "6vr5cUmSEg4R",
        "outputId": "dd182346-3c2f-473a-8032-d8698cd23e0a"
      },
      "execution_count": 7,
      "outputs": [
        {
          "output_type": "execute_result",
          "data": {
            "text/plain": [
              "tensor([[-0.7229,     nan,     nan, -0.2457],\n",
              "        [    nan,     nan,     nan, -3.0043],\n",
              "        [-2.1641,     nan,  0.4350,     nan],\n",
              "        [    nan, -0.3874,     nan, -0.0600],\n",
              "        [ 0.8541,     nan,  0.6301,     nan],\n",
              "        [    nan,     nan, -0.7792,     nan],\n",
              "        [ 0.3373,     nan,  0.4167,     nan],\n",
              "        [-0.1174, -0.1914, -3.0718, -2.1524],\n",
              "        [-0.1311,     nan,     nan,  0.0678],\n",
              "        [    nan,  0.1278,     nan,     nan]])"
            ]
          },
          "metadata": {},
          "execution_count": 7
        }
      ]
    },
    {
      "cell_type": "code",
      "source": [
        "# one-hot представление разметки\n",
        "torch.nn.functional.one_hot(labels_ex)"
      ],
      "metadata": {
        "colab": {
          "base_uri": "https://localhost:8080/"
        },
        "id": "JJ2fmuXrEplx",
        "outputId": "9680532e-f2cb-488b-dd54-6e4338ca6aaa"
      },
      "execution_count": 8,
      "outputs": [
        {
          "output_type": "execute_result",
          "data": {
            "text/plain": [
              "tensor([[1, 0, 0],\n",
              "        [1, 0, 0],\n",
              "        [0, 1, 0],\n",
              "        [0, 1, 0],\n",
              "        [1, 0, 0],\n",
              "        [0, 0, 1],\n",
              "        [0, 1, 0],\n",
              "        [0, 0, 1],\n",
              "        [1, 0, 0],\n",
              "        [0, 0, 1]])"
            ]
          },
          "metadata": {},
          "execution_count": 8
        }
      ]
    },
    {
      "cell_type": "code",
      "source": [
        "# Суммирование\n",
        "\n",
        "out_ex.sum()"
      ],
      "metadata": {
        "colab": {
          "base_uri": "https://localhost:8080/"
        },
        "id": "2qXbrJafEp5R",
        "outputId": "0d0dcc3e-844e-4313-ab0f-3bbe6b422160"
      },
      "execution_count": 9,
      "outputs": [
        {
          "output_type": "execute_result",
          "data": {
            "text/plain": [
              "tensor(-3.3834)"
            ]
          },
          "metadata": {},
          "execution_count": 9
        }
      ]
    },
    {
      "cell_type": "markdown",
      "source": [
        "2. Написать функцию CELoss с усреднением по примерам\n",
        "\n",
        "![image.png](data:image/png;base64,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)\n",
        "\n",
        "$y_i$ - one hot метки классов\n",
        "$\\tilde{y_i}$ - значение нейрона\n",
        "$N$ - размер выхода\n"
      ],
      "metadata": {
        "id": "_b3S56lPEs3w"
      }
    },
    {
      "cell_type": "code",
      "source": [
        "def CELoss(outputs, labels):\n",
        "    ?\n",
        "    return"
      ],
      "metadata": {
        "id": "dMPn1q_aErq5"
      },
      "execution_count": null,
      "outputs": []
    },
    {
      "cell_type": "code",
      "source": [
        "# Преобразование значений нейронов в разметку классов\n",
        "pred_ex = torch.randn(10, 4).argmax(1)\n",
        "pred_ex"
      ],
      "metadata": {
        "colab": {
          "base_uri": "https://localhost:8080/"
        },
        "id": "P4p6GRS1HCVe",
        "outputId": "3accb2af-5915-4b32-91c3-314624aedcdb"
      },
      "execution_count": 10,
      "outputs": [
        {
          "output_type": "execute_result",
          "data": {
            "text/plain": [
              "tensor([0, 3, 3, 3, 2, 1, 1, 3, 0, 3])"
            ]
          },
          "metadata": {},
          "execution_count": 10
        }
      ]
    },
    {
      "cell_type": "code",
      "source": [
        "# Поэлементное сравнение\n",
        "labels_ex == pred_ex"
      ],
      "metadata": {
        "colab": {
          "base_uri": "https://localhost:8080/"
        },
        "id": "26pSqG02HEVE",
        "outputId": "6f14553c-6edc-480d-d530-e15905b7322c"
      },
      "execution_count": 11,
      "outputs": [
        {
          "output_type": "execute_result",
          "data": {
            "text/plain": [
              "tensor([ True, False, False, False, False, False,  True, False,  True, False])"
            ]
          },
          "metadata": {},
          "execution_count": 11
        }
      ]
    },
    {
      "cell_type": "markdown",
      "source": [
        "3. Написать код для расчета точности"
      ],
      "metadata": {
        "id": "CcZa47dyHJHG"
      }
    },
    {
      "cell_type": "code",
      "source": [
        "def accuracy(labels, predictions):\n",
        "    ?\n",
        "    return"
      ],
      "metadata": {
        "id": "ltPy0_dyHGJO"
      },
      "execution_count": null,
      "outputs": []
    }
  ]
}