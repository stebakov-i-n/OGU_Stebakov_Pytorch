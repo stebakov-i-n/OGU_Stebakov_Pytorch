{
  "nbformat": 4,
  "nbformat_minor": 0,
  "metadata": {
    "colab": {
      "provenance": []
    },
    "kernelspec": {
      "name": "python3",
      "display_name": "Python 3"
    },
    "language_info": {
      "name": "python"
    }
  },
  "cells": [
    {
      "cell_type": "code",
      "source": [
        "import torch\n",
        "from torch import nn"
      ],
      "metadata": {
        "id": "xVeMI_cUHaKv"
      },
      "execution_count": 15,
      "outputs": []
    },
    {
      "cell_type": "markdown",
      "source": [
        "1. Модифицировать функцию добавив следующие параметры: размера входа и выхода, параметр p операции Dropout"
      ],
      "metadata": {
        "id": "umLn1xaiHqmT"
      }
    },
    {
      "cell_type": "code",
      "source": [
        "def hidden_layer():\n",
        "    \"\"\"Функция для создания промежуточного слоя нейросети\"\"\"\n",
        "    layer = nn.Sequential(\n",
        "            *[nn.Dropout(0.1),\n",
        "              nn.Linear(100, 100, bias=False),\n",
        "              nn.BatchNorm1d(100),\n",
        "              nn.ReLU(inplace=True)])\n",
        "    return layer"
      ],
      "metadata": {
        "id": "LBEe8j7GHa2e"
      },
      "execution_count": 16,
      "outputs": []
    },
    {
      "cell_type": "markdown",
      "source": [
        "2. Модифицировать класс создания нейронной добавив следующие параметры: кол-во слоев, кол-во нейронов в промежуточных слоях, размер входа, кол-во классов, параметр p операции Dropout"
      ],
      "metadata": {
        "id": "cJ8sDRHHH6DX"
      }
    },
    {
      "cell_type": "code",
      "source": [
        "class MLP(nn.Module):\n",
        "    def __init__(self):\n",
        "        super(MLP, self).__init__()\n",
        "\n",
        "        self.n = 3\n",
        "        layers = []\n",
        "        for i in range(2):\n",
        "            layers.append(hidden_layer())\n",
        "\n",
        "        self.layers = nn.Sequential(*layers)\n",
        "\n",
        "        self.out = nn.Sequential(\n",
        "            *[nn.Dropout(0.1),\n",
        "              nn.Linear(100, 4, bias=False)])\n",
        "\n",
        "    def forward(self, x):\n",
        "        if self.n < 2:\n",
        "            out = self.out(x)\n",
        "        else:\n",
        "            out = self.layers(x)\n",
        "            out = self.out(out)\n",
        "        return out"
      ],
      "metadata": {
        "id": "_ldv49mOHfGp"
      },
      "execution_count": 17,
      "outputs": []
    },
    {
      "cell_type": "code",
      "source": [
        "# Создание экземпляра класса модели\n",
        "model = MLP()\n",
        "model"
      ],
      "metadata": {
        "colab": {
          "base_uri": "https://localhost:8080/"
        },
        "id": "Dhq3v_arJ10S",
        "outputId": "97541511-df86-4593-be85-011e1ff408d7"
      },
      "execution_count": 18,
      "outputs": [
        {
          "output_type": "execute_result",
          "data": {
            "text/plain": [
              "MLP(\n",
              "  (layers): Sequential(\n",
              "    (0): Sequential(\n",
              "      (0): Dropout(p=0.1, inplace=False)\n",
              "      (1): Linear(in_features=100, out_features=100, bias=False)\n",
              "      (2): BatchNorm1d(100, eps=1e-05, momentum=0.1, affine=True, track_running_stats=True)\n",
              "      (3): ReLU(inplace=True)\n",
              "    )\n",
              "    (1): Sequential(\n",
              "      (0): Dropout(p=0.1, inplace=False)\n",
              "      (1): Linear(in_features=100, out_features=100, bias=False)\n",
              "      (2): BatchNorm1d(100, eps=1e-05, momentum=0.1, affine=True, track_running_stats=True)\n",
              "      (3): ReLU(inplace=True)\n",
              "    )\n",
              "  )\n",
              "  (out): Sequential(\n",
              "    (0): Dropout(p=0.1, inplace=False)\n",
              "    (1): Linear(in_features=100, out_features=4, bias=False)\n",
              "  )\n",
              ")"
            ]
          },
          "metadata": {},
          "execution_count": 18
        }
      ]
    },
    {
      "cell_type": "code",
      "source": [
        "# Случайный вход нейросети\n",
        "inp_ex = torch.randn(1000, 100)"
      ],
      "metadata": {
        "id": "L4BJyTz2J5lc"
      },
      "execution_count": 19,
      "outputs": []
    },
    {
      "cell_type": "code",
      "source": [
        "# Прямой проход нейросети\n",
        "model.forward(inp_ex)"
      ],
      "metadata": {
        "colab": {
          "base_uri": "https://localhost:8080/"
        },
        "id": "DcdDSUXfJ5-9",
        "outputId": "e7439dfd-3a27-4759-8999-bbed57406de1"
      },
      "execution_count": 20,
      "outputs": [
        {
          "output_type": "execute_result",
          "data": {
            "text/plain": [
              "tensor([[-0.1407,  0.0609, -0.4772,  0.2172],\n",
              "        [-0.0912, -0.7331, -0.0603, -0.4887],\n",
              "        [-0.2903,  0.3365, -0.0749, -0.7073],\n",
              "        ...,\n",
              "        [ 0.1124,  0.0780, -0.1700,  0.1191],\n",
              "        [-0.1686, -0.5047,  0.7312, -0.1257],\n",
              "        [ 0.1403, -0.4087,  0.0089, -0.4816]], grad_fn=<MmBackward0>)"
            ]
          },
          "metadata": {},
          "execution_count": 20
        }
      ]
    }
  ]
}